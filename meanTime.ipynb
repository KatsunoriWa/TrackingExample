{
 "cells": [
  {
   "cell_type": "markdown",
   "metadata": {},
   "source": [
    "# 追跡数と追跡にかかった時間の分析\n",
    "\n",
    "以下の分析によれば、追跡数に追跡処理の合計の時間は比例する。"
   ]
  },
  {
   "cell_type": "code",
   "execution_count": null,
   "metadata": {},
   "outputs": [],
   "source": [
    "import  pickle\n",
    "import pandas as pd\n",
    "import numpy as np\n",
    "\n",
    "import glob\n",
    "%matplotlib inline\n"
   ]
  },
  {
   "cell_type": "code",
   "execution_count": null,
   "metadata": {
    "collapsed": true
   },
   "outputs": [],
   "source": [
    "def trackingTime(name):\n",
    "    with open(name, 'rb') as f:\n",
    "        d = pickle.load(f)\n",
    "    print name\n",
    "    data = []\n",
    "    for k in d.keys():\n",
    "        print k, np.mean(d[k]), np.percentile(d[k], 90)\n",
    "        data.append([k, np.mean(d[k]), np.percentile(d[k], 90)])\n",
    "    df = pd.DataFrame(data)\n",
    "    df.columns=[\"n\", \"mean\", \"percentile80\"]\n",
    "    df.plot(x=\"n\", title=name, marker=\"*\", grid=True)"
   ]
  },
  {
   "cell_type": "code",
   "execution_count": null,
   "metadata": {},
   "outputs": [],
   "source": [
    "for name in glob.glob(\"*.pickle\"):\n",
    "    print trackingTime(name)"
   ]
  },
  {
   "cell_type": "code",
   "execution_count": null,
   "metadata": {
    "collapsed": true
   },
   "outputs": [],
   "source": []
  },
  {
   "cell_type": "code",
   "execution_count": null,
   "metadata": {
    "collapsed": true
   },
   "outputs": [],
   "source": []
  }
 ],
 "metadata": {
  "kernelspec": {
   "display_name": "Python 2",
   "language": "python",
   "name": "python2"
  },
  "language_info": {
   "codemirror_mode": {
    "name": "ipython",
    "version": 2
   },
   "file_extension": ".py",
   "mimetype": "text/x-python",
   "name": "python",
   "nbconvert_exporter": "python",
   "pygments_lexer": "ipython2",
   "version": "2.7.12"
  }
 },
 "nbformat": 4,
 "nbformat_minor": 2
}
